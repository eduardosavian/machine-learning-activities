{
  "cells": [
    {
      "cell_type": "code",
      "execution_count": 1,
      "metadata": {},
      "outputs": [],
      "source": [
        "# Configuration\n",
        "\n",
        "# If the code will be run on Google's collaborate platform (requires Drive access.)\n",
        "USE_GOOGLE_COLLAB = False\n",
        "\n",
        "# If set to true, minority samples will be corrected to be more common, which\n",
        "# can lead to generally better learning for the model.\n",
        "USE_SMOTE = True\n"
      ]
    },
    {
      "cell_type": "code",
      "execution_count": 2,
      "metadata": {
        "colab": {
          "base_uri": "https://localhost:8080/"
        },
        "id": "ohW56ywH0oSt",
        "outputId": "b3f60f98-1d17-48b4-8271-5c6c52a1b8e0"
      },
      "outputs": [],
      "source": [
        "DATA_PATH = ''\n",
        "if USE_GOOGLE_COLLAB:\n",
        "    from google.colab import drive\n",
        "    drive.mount('/content/drive')\n",
        "    DATA_PATH = '/content/drive/MyDrive/creditcard.csv'\n",
        "else:\n",
        "    DATA_PATH = 'dataset/creditcard.csv'"
      ]
    },
    {
      "cell_type": "markdown",
      "metadata": {},
      "source": [
        "You can download the dataset [here](https://www.kaggle.com/datasets/mlg-ulb/creditcardfraud)"
      ]
    },
    {
      "cell_type": "code",
      "execution_count": 3,
      "metadata": {
        "id": "Js7zfIr-zjW4"
      },
      "outputs": [],
      "source": [
        "import time\n",
        "import pandas as pd\n",
        "# Models\n",
        "from sklearn.linear_model import LogisticRegression\n",
        "from sklearn.tree import DecisionTreeClassifier\n",
        "from sklearn.ensemble import RandomForestClassifier, GradientBoostingClassifier\n",
        "from sklearn.svm import SVC\n",
        "# Utilities and metrics\n",
        "from sklearn.model_selection import train_test_split\n",
        "from sklearn.metrics import accuracy_score, precision_score, recall_score, f1_score\n",
        "# Preprocessing and normalizing\n",
        "from sklearn.preprocessing import StandardScaler\n",
        "if USE_SMOTE:\n",
        "    from imblearn.over_sampling import SMOTE"
      ]
    },
    {
      "cell_type": "code",
      "execution_count": 7,
      "metadata": {
        "id": "LEBz4Ku6zjW6"
      },
      "outputs": [],
      "source": [
        "data = pd.read_csv(DATA_PATH)\n",
        "\n",
        "ax = data.drop('Class', axis=1)\n",
        "ay = data['Class']\n",
        "\n",
        "if USE_SMOTE:\n",
        "    smote = SMOTE()\n",
        "    ax, ay = smote.fit_resample(ax, ay)\n",
        "else:\n",
        "    x_res, y_res = ax, ay"
      ]
    },
    {
      "cell_type": "code",
      "execution_count": 8,
      "metadata": {
        "id": "EuixTzyu1kJT"
      },
      "outputs": [],
      "source": [
        "x_train, x_test, y_train, y_test = train_test_split(ax, ay, test_size=0.3, random_state=42)\n",
        "\n",
        "# Normalize everything before doing any training.\n",
        "scaler = StandardScaler()\n",
        "x_train = scaler.fit_transform(x_train)\n",
        "x_test = scaler.transform(x_test)"
      ]
    },
    {
      "cell_type": "code",
      "execution_count": 9,
      "metadata": {
        "id": "X5ScsDtizjW7"
      },
      "outputs": [],
      "source": [
        "# Run a particular model and return a summary of its properties.\n",
        "def evaluate_model(model, x_train, x_test, y_train, y_test) -> dict:\n",
        "    start_time = time.time()\n",
        "    model.fit(x_train, y_train)\n",
        "    end_time = time.time()\n",
        "\n",
        "    y_pred = model.predict(x_test)\n",
        "\n",
        "    results = {\n",
        "        'Accuracy' : accuracy_score(y_test, y_pred),\n",
        "        'Precision' : precision_score(y_test, y_pred),\n",
        "        'Recall' : recall_score(y_test, y_pred),\n",
        "        'F1' : f1_score(y_test, y_pred),\n",
        "        'Time' : end_time - start_time,\n",
        "    }\n",
        "\n",
        "    return results"
      ]
    },
    {
      "cell_type": "markdown",
      "metadata": {
        "id": "8NeA92A21aM9"
      },
      "source": [
        "### Results"
      ]
    },
    {
      "cell_type": "code",
      "execution_count": 10,
      "metadata": {
        "id": "o8L6_bbs1ZTX"
      },
      "outputs": [],
      "source": [
        "results = {}\n",
        "\n",
        "models = {\n",
        "    'Logistic Regression': LogisticRegression(),\n",
        "    'Decision Tree': DecisionTreeClassifier(),\n",
        "    #'Random Forest': RandomForestClassifier(),\n",
        "    #'Gradient Boosting': GradientBoostingClassifier(),\n",
        "    #'SVC': SVC(),\n",
        "}"
      ]
    },
    {
      "cell_type": "code",
      "execution_count": 12,
      "metadata": {
        "id": "AY-N0mj2zjW8"
      },
      "outputs": [
        {
          "name": "stdout",
          "output_type": "stream",
          "text": [
            "Running: Logistic Regression .... "
          ]
        },
        {
          "name": "stdout",
          "output_type": "stream",
          "text": [
            " Done.\n",
            "Running: Decision Tree ....  Done.\n"
          ]
        },
        {
          "data": {
            "text/html": [
              "<div>\n",
              "<style scoped>\n",
              "    .dataframe tbody tr th:only-of-type {\n",
              "        vertical-align: middle;\n",
              "    }\n",
              "\n",
              "    .dataframe tbody tr th {\n",
              "        vertical-align: top;\n",
              "    }\n",
              "\n",
              "    .dataframe thead th {\n",
              "        text-align: right;\n",
              "    }\n",
              "</style>\n",
              "<table border=\"1\" class=\"dataframe\">\n",
              "  <thead>\n",
              "    <tr style=\"text-align: right;\">\n",
              "      <th></th>\n",
              "      <th>Accuracy</th>\n",
              "      <th>Precision</th>\n",
              "      <th>Eecall</th>\n",
              "      <th>F1</th>\n",
              "      <th>Time</th>\n",
              "    </tr>\n",
              "  </thead>\n",
              "  <tbody>\n",
              "    <tr>\n",
              "      <th>Logistic Regression</th>\n",
              "      <td>0.980057</td>\n",
              "      <td>0.990834</td>\n",
              "      <td>0.969148</td>\n",
              "      <td>0.979871</td>\n",
              "      <td>7.009765</td>\n",
              "    </tr>\n",
              "    <tr>\n",
              "      <th>Decision Tree</th>\n",
              "      <td>0.998241</td>\n",
              "      <td>0.997336</td>\n",
              "      <td>0.999157</td>\n",
              "      <td>0.998246</td>\n",
              "      <td>111.446795</td>\n",
              "    </tr>\n",
              "  </tbody>\n",
              "</table>\n",
              "</div>"
            ],
            "text/plain": [
              "                     Accuracy  Precision    Eecall        F1        Time\n",
              "Logistic Regression  0.980057   0.990834  0.969148  0.979871    7.009765\n",
              "Decision Tree        0.998241   0.997336  0.999157  0.998246  111.446795"
            ]
          },
          "execution_count": 12,
          "metadata": {},
          "output_type": "execute_result"
        }
      ],
      "source": [
        "for name, model in models.items():\n",
        "    print(f'Running: {name} .... ', end='')\n",
        "    results[name] = evaluate_model(model, x_train, x_test, y_train, y_test)\n",
        "    print('Done')\n",
        "\n",
        "results_df = pd.DataFrame(results)\n",
        "results_df.T # This should display a table in most Jupyter implementations."
      ]
    }
  ],
  "metadata": {
    "colab": {
      "provenance": []
    },
    "kernelspec": {
      "display_name": "Python 3",
      "language": "python",
      "name": "python3"
    },
    "language_info": {
      "codemirror_mode": {
        "name": "ipython",
        "version": 3
      },
      "file_extension": ".py",
      "mimetype": "text/x-python",
      "name": "python",
      "nbconvert_exporter": "python",
      "pygments_lexer": "ipython3",
      "version": "3.12.3"
    }
  },
  "nbformat": 4,
  "nbformat_minor": 0
}
