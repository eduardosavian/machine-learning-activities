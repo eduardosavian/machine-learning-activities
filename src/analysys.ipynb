{
  "cells": [
    {
      "cell_type": "markdown",
      "metadata": {
        "id": "RDkw6BbEzjW3"
      },
      "source": [
        "# Machine Learning"
      ]
    },
    {
      "cell_type": "markdown",
      "metadata": {
        "id": "oqU65bixzjW4"
      },
      "source": [
        "## Imports"
      ]
    },
    {
      "cell_type": "markdown",
      "source": [
        "### Python imports"
      ],
      "metadata": {
        "id": "U7-NoQ4l1sUB"
      }
    },
    {
      "cell_type": "code",
      "execution_count": 1,
      "metadata": {
        "id": "Js7zfIr-zjW4"
      },
      "outputs": [],
      "source": [
        "import pandas as pd\n",
        "from sklearn.model_selection import train_test_split\n",
        "from sklearn.preprocessing import StandardScaler\n",
        "from sklearn.linear_model import LogisticRegression\n",
        "from sklearn.tree import DecisionTreeClassifier\n",
        "from sklearn.ensemble import RandomForestClassifier, GradientBoostingClassifier\n",
        "from sklearn.svm import SVC\n",
        "from sklearn.metrics import accuracy_score, precision_score, recall_score, f1_score\n",
        "from imblearn.over_sampling import SMOTE\n",
        "import time"
      ]
    },
    {
      "cell_type": "markdown",
      "source": [
        "### Google drive mount"
      ],
      "metadata": {
        "id": "SbZbnLcv083s"
      }
    },
    {
      "cell_type": "code",
      "source": [
        "from google.colab import drive\n",
        "drive.mount('/content/drive')"
      ],
      "metadata": {
        "colab": {
          "base_uri": "https://localhost:8080/"
        },
        "id": "ohW56ywH0oSt",
        "outputId": "1922e8e3-8852-48d0-afff-3d0e0e31611f"
      },
      "execution_count": 6,
      "outputs": [
        {
          "output_type": "stream",
          "name": "stdout",
          "text": [
            "Drive already mounted at /content/drive; to attempt to forcibly remount, call drive.mount(\"/content/drive\", force_remount=True).\n"
          ]
        }
      ]
    },
    {
      "cell_type": "markdown",
      "metadata": {
        "id": "7c7r554BzjW5"
      },
      "source": [
        "## Code"
      ]
    },
    {
      "cell_type": "markdown",
      "metadata": {
        "id": "dQgp04W4zjW5"
      },
      "source": [
        "### Prepar [Credit card dataset](https://www.kaggle.com/datasets/mlg-ulb/creditcardfraud)"
      ]
    },
    {
      "cell_type": "code",
      "execution_count": 15,
      "metadata": {
        "id": "GS0WKj2izjW6"
      },
      "outputs": [],
      "source": [
        "google_drive_path = '/content/drive/MyDrive/creditcard.csv'\n",
        "local_path = '../data/creditcard.csv'\n",
        "data = pd.read_csv(google_drive_path)"
      ]
    },
    {
      "cell_type": "code",
      "execution_count": 16,
      "metadata": {
        "id": "LEBz4Ku6zjW6"
      },
      "outputs": [],
      "source": [
        "# Separar características e rótulo\n",
        "X = data.drop('Class', axis=1)\n",
        "y = data['Class']"
      ]
    },
    {
      "cell_type": "code",
      "execution_count": 17,
      "metadata": {
        "id": "JP-HnpC7zjW6"
      },
      "outputs": [],
      "source": [
        "# Balanceamento das classes usando SMOTE\n",
        "smote = SMOTE(random_state=42)\n",
        "X_res, y_res = smote.fit_resample(X, y)"
      ]
    },
    {
      "cell_type": "code",
      "source": [
        "# Divisão dos dados em conjuntos de treino e teste\n",
        "X_train, X_test, y_train, y_test = train_test_split(X_res, y_res, test_size=0.3, random_state=42)\n",
        "\n",
        "# Normalizar os dados\n",
        "scaler = StandardScaler()\n",
        "X_train = scaler.fit_transform(X_train)\n",
        "X_test = scaler.transform(X_test)"
      ],
      "metadata": {
        "id": "EuixTzyu1kJT"
      },
      "execution_count": 18,
      "outputs": []
    },
    {
      "cell_type": "markdown",
      "metadata": {
        "id": "dp8qGNu7zjW7"
      },
      "source": [
        "### Main function"
      ]
    },
    {
      "cell_type": "code",
      "execution_count": 19,
      "metadata": {
        "id": "X5ScsDtizjW7"
      },
      "outputs": [],
      "source": [
        "# Função para treinar e avaliar os modelos\n",
        "def evaluate_model(model, X_train, X_test, y_train, y_test):\n",
        "    start_time = time.time()\n",
        "    model.fit(X_train, y_train)\n",
        "    end_time = time.time()\n",
        "\n",
        "    y_pred = model.predict(X_test)\n",
        "\n",
        "    accuracy = accuracy_score(y_test, y_pred)\n",
        "    precision = precision_score(y_test, y_pred)\n",
        "    recall = recall_score(y_test, y_pred)\n",
        "    f1 = f1_score(y_test, y_pred)\n",
        "    execution_time = end_time - start_time\n",
        "\n",
        "    return accuracy, precision, recall, f1, execution_time"
      ]
    },
    {
      "cell_type": "markdown",
      "source": [
        "### Test"
      ],
      "metadata": {
        "id": "8NeA92A21aM9"
      }
    },
    {
      "cell_type": "code",
      "source": [
        "# Dicionário para armazenar os resultados\n",
        "results = {}\n",
        "\n",
        "# Avaliação dos modelos\n",
        "models = {\n",
        "    'Logistic Regression': LogisticRegression(),\n",
        "    'Decision Tree': DecisionTreeClassifier(),\n",
        "    'Random Forest': RandomForestClassifier(),\n",
        "    'Gradient Boosting': GradientBoostingClassifier(),\n",
        "    'SVM': SVC()\n",
        "}"
      ],
      "metadata": {
        "id": "o8L6_bbs1ZTX"
      },
      "execution_count": 22,
      "outputs": []
    },
    {
      "cell_type": "code",
      "execution_count": null,
      "metadata": {
        "colab": {
          "base_uri": "https://localhost:8080/"
        },
        "id": "AY-N0mj2zjW8",
        "outputId": "5617db3c-caf3-4be7-d18b-ad1fbf2d7c20"
      },
      "outputs": [
        {
          "output_type": "stream",
          "name": "stderr",
          "text": [
            "/usr/local/lib/python3.10/dist-packages/sklearn/linear_model/_logistic.py:458: ConvergenceWarning: lbfgs failed to converge (status=1):\n",
            "STOP: TOTAL NO. of ITERATIONS REACHED LIMIT.\n",
            "\n",
            "Increase the number of iterations (max_iter) or scale the data as shown in:\n",
            "    https://scikit-learn.org/stable/modules/preprocessing.html\n",
            "Please also refer to the documentation for alternative solver options:\n",
            "    https://scikit-learn.org/stable/modules/linear_model.html#logistic-regression\n",
            "  n_iter_i = _check_optimize_result(\n"
          ]
        }
      ],
      "source": [
        "for name, model in models.items():\n",
        "    accuracy, precision, recall, f1, exec_time = evaluate_model(model, X_train, X_test, y_train, y_test)\n",
        "    results[name] = {\n",
        "        'Accuracy': accuracy,\n",
        "        'Precision': precision,\n",
        "        'Recall': recall,\n",
        "        'F1 Score': f1,\n",
        "        'Execution Time': exec_time\n",
        "    }\n",
        "\n",
        "# Exibir os resultados\n",
        "results_df = pd.DataFrame(results).T\n",
        "results_df"
      ]
    }
  ],
  "metadata": {
    "kernelspec": {
      "display_name": "Python 3",
      "language": "python",
      "name": "python3"
    },
    "language_info": {
      "codemirror_mode": {
        "name": "ipython",
        "version": 3
      },
      "file_extension": ".py",
      "mimetype": "text/x-python",
      "name": "python",
      "nbconvert_exporter": "python",
      "pygments_lexer": "ipython3",
      "version": "3.12.3"
    },
    "colab": {
      "provenance": []
    }
  },
  "nbformat": 4,
  "nbformat_minor": 0
}